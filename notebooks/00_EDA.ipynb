{
 "cells": [
  {
   "cell_type": "code",
   "execution_count": null,
   "id": "18b2bd58",
   "metadata": {},
   "outputs": [],
   "source": [
    "import sys\n",
    "import os\n",
    "\n",
    "repo_root = os.path.dirname(os.getcwd())\n",
    "src_path = os.path.join(repo_root, \"src\")\n",
    "\n",
    "if src_path not in sys.path:\n",
    "    sys.path.append(src_path)\n"
   ]
  },
  {
   "cell_type": "code",
   "execution_count": 13,
   "id": "dcd4a862",
   "metadata": {},
   "outputs": [
    {
     "name": "stdout",
     "output_type": "stream",
     "text": [
      "Index(['User_id', 'Coupon_id', 'Coupon_status', 'Coupon_amt', 'Receive_date',\n",
      "       'Start_date', 'End_date', 'Price_limit'],\n",
      "      dtype='object')\n",
      "Index(['User_id', 'Shop_id', 'Order_id', 'Coupon_id', 'Coupon_type',\n",
      "       'Biz_code', 'Pay_date', 'Actual_pay', 'Reduce_amount'],\n",
      "      dtype='object')\n",
      "Index(['User_id', 'Visit_date'], dtype='object')\n"
     ]
    }
   ],
   "source": [
    "import pandas as pd\n",
    "df1 = pd.read_csv(os.path.join(repo_root, \"data_raw/user_coupon_receive.csv\"), nrows=0)\n",
    "df2 = pd.read_csv(os.path.join(repo_root, \"data_raw/order_detail.csv\"), nrows=0)\n",
    "df3 = pd.read_csv(os.path.join(repo_root, \"data_raw/user_visit_detail.csv\"), nrows=0)\n",
    "print(df1.columns)\n",
    "print(df2.columns)\n",
    "print(df3.columns)"
   ]
  },
  {
   "cell_type": "code",
   "execution_count": 16,
   "id": "4e341e41",
   "metadata": {},
   "outputs": [
    {
     "name": "stdout",
     "output_type": "stream",
     "text": [
      "(5, 9)\n",
      "(5, 8)\n",
      "(5, 2)\n"
     ]
    }
   ],
   "source": [
    "from io_load import load_transactions, load_receipts, load_users_logins\n",
    "\n",
    "tx = load_transactions(os.path.join(repo_root, \"data_raw/order_detail.csv\"), nrows=5)\n",
    "rc = load_receipts(os.path.join(repo_root, \"data_raw/user_coupon_receive.csv\"), nrows=5)\n",
    "ul = load_users_logins(os.path.join(repo_root, \"data_raw/user_visit_detail.csv\"), nrows=5)\n",
    "\n",
    "print(tx.shape)\n",
    "print(rc.shape)\n",
    "print(ul.shape)\n",
    "\n"
   ]
  },
  {
   "cell_type": "code",
   "execution_count": 2,
   "id": "d3701c58",
   "metadata": {},
   "outputs": [
    {
     "data": {
      "text/plain": [
       "'c:\\\\Users\\\\20878\\\\25Fall\\\\meituan-coupon-roi\\\\notebooks'"
      ]
     },
     "execution_count": 2,
     "metadata": {},
     "output_type": "execute_result"
    }
   ],
   "source": [
    "import pandas as pd\n",
    "import os\n",
    "os.getcwd()"
   ]
  },
  {
   "cell_type": "code",
   "execution_count": 3,
   "id": "0c5de61a",
   "metadata": {},
   "outputs": [
    {
     "data": {
      "text/plain": [
       "Index(['User_id', 'Coupon_id', 'Coupon_status', 'Coupon_amt', 'Receive_date',\n",
       "       'Start_date', 'End_date', 'Price_limit'],\n",
       "      dtype='object')"
      ]
     },
     "execution_count": 3,
     "metadata": {},
     "output_type": "execute_result"
    }
   ],
   "source": [
    "df.columns"
   ]
  },
  {
   "cell_type": "code",
   "execution_count": 4,
   "id": "45596bda",
   "metadata": {},
   "outputs": [
    {
     "data": {
      "text/plain": [
       "Index(['User_id', 'Shop_id', 'Order_id', 'Coupon_id', 'Coupon_type',\n",
       "       'Biz_code', 'Pay_date', 'Actual_pay', 'Reduce_amount'],\n",
       "      dtype='object')"
      ]
     },
     "execution_count": 4,
     "metadata": {},
     "output_type": "execute_result"
    }
   ],
   "source": [
    "df = pd.read_csv(\"data_raw/order_detail.csv\")\n",
    "df.columns"
   ]
  },
  {
   "cell_type": "code",
   "execution_count": 5,
   "id": "9a83311d",
   "metadata": {},
   "outputs": [
    {
     "data": {
      "text/plain": [
       "Index(['User_id', 'Visit_date'], dtype='object')"
      ]
     },
     "execution_count": 5,
     "metadata": {},
     "output_type": "execute_result"
    }
   ],
   "source": [
    "df = pd.read_csv(\"data_raw/user_visit_detail.csv\")\n",
    "df.columns"
   ]
  }
 ],
 "metadata": {
  "kernelspec": {
   "display_name": ".venv (3.13.7)",
   "language": "python",
   "name": "python3"
  },
  "language_info": {
   "codemirror_mode": {
    "name": "ipython",
    "version": 3
   },
   "file_extension": ".py",
   "mimetype": "text/x-python",
   "name": "python",
   "nbconvert_exporter": "python",
   "pygments_lexer": "ipython3",
   "version": "3.13.7"
  }
 },
 "nbformat": 4,
 "nbformat_minor": 5
}
