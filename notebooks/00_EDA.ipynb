{
 "cells": [
  {
   "cell_type": "code",
   "execution_count": 1,
   "id": "18b2bd58",
   "metadata": {},
   "outputs": [],
   "source": [
    "import sys\n",
    "import os\n",
    "\n",
    "repo_root = os.path.dirname(os.getcwd())\n",
    "src_path = os.path.join(repo_root, \"src\")\n",
    "\n",
    "if src_path not in sys.path:\n",
    "    sys.path.append(src_path)\n"
   ]
  },
  {
   "cell_type": "code",
   "execution_count": 2,
   "id": "783b8e74",
   "metadata": {},
   "outputs": [
    {
     "data": {
      "text/plain": [
       "<module 'io_load' from 'c:\\\\Users\\\\20878\\\\25Fall\\\\meituan-coupon-roi\\\\src\\\\io_load.py'>"
      ]
     },
     "execution_count": 2,
     "metadata": {},
     "output_type": "execute_result"
    }
   ],
   "source": [
    "import importlib, io_load\n",
    "importlib.reload(io_load)"
   ]
  },
  {
   "cell_type": "code",
   "execution_count": 3,
   "id": "4e341e41",
   "metadata": {},
   "outputs": [
    {
     "name": "stdout",
     "output_type": "stream",
     "text": [
      "Index(['User_id', 'Shop_id', 'Order_id', 'Coupon_id', 'Coupon_type',\n",
      "       'Biz_code', 'Pay_date', 'Actual_pay_cent', 'Reduce_amount_cent'],\n",
      "      dtype='object')\n",
      "Index(['User_id', 'Coupon_id', 'Coupon_status', 'Receive_date', 'Start_date',\n",
      "       'End_date', 'Coupon_amt_cent', 'Price_limit_cent'],\n",
      "      dtype='object')\n",
      "Index(['User_id', 'Visit_date'], dtype='object')\n"
     ]
    }
   ],
   "source": [
    "from io_load import *\n",
    "\n",
    "tx = load_transactions_csv(\"data_raw/order_detail.csv\", nrows=15)\n",
    "rc = load_receipts_csv(\"data_raw/user_coupon_receive.csv\", nrows=15)\n",
    "ul = load_users_logins_csv(\"data_raw/user_visit_detail.csv\", nrows=15)\n",
    "\n",
    "print(tx.columns)\n",
    "print(rc.columns)\n",
    "print(ul.columns)"
   ]
  },
  {
   "cell_type": "code",
   "execution_count": 4,
   "id": "faece178",
   "metadata": {},
   "outputs": [
    {
     "data": {
      "text/plain": [
       "<module 'clean_compress' from 'c:\\\\Users\\\\20878\\\\25Fall\\\\meituan-coupon-roi\\\\src\\\\clean_compress.py'>"
      ]
     },
     "execution_count": 4,
     "metadata": {},
     "output_type": "execute_result"
    }
   ],
   "source": [
    "import importlib, clean_compress\n",
    "importlib.reload(clean_compress)"
   ]
  },
  {
   "cell_type": "code",
   "execution_count": 5,
   "id": "2c8c030e",
   "metadata": {},
   "outputs": [
    {
     "name": "stdout",
     "output_type": "stream",
     "text": [
      "Mem. usage decreased to  0.00 Mb (22.7% reduction)\n",
      "Mem. usage decreased to  0.00 Mb (22.4% reduction)\n",
      "Mem. usage decreased to  0.00 Mb (0.0% reduction)\n"
     ]
    }
   ],
   "source": [
    "from clean_compress import *\n",
    "dfs = (tx, rc, ul)\n",
    "\n",
    "dfs = drop_duplicate_rows(*dfs)\n",
    "\n",
    "for df in dfs:\n",
    "    df = reduce_mem_usage(df)"
   ]
  },
  {
   "cell_type": "code",
   "execution_count": 12,
   "id": "8104a0a7",
   "metadata": {},
   "outputs": [
    {
     "name": "stdout",
     "output_type": "stream",
     "text": [
      "[Coupon_id] ↓ to  0.00 MB (90.0% reduction)\n"
     ]
    }
   ],
   "source": [
    "new_tx_rc, mapping = id_reassign_with_map([\"Coupon_id\"], tx, rc)"
   ]
  },
  {
   "cell_type": "code",
   "execution_count": 13,
   "id": "b41fce0b",
   "metadata": {},
   "outputs": [
    {
     "data": {
      "text/plain": [
       "{'7e4ae1565cc015a44f10263d7ffe4dc0': 0,\n",
       " '0a52ebb2f236b558eb5deb0bb73c2613': 1,\n",
       " '20dd5ba437c64f36dfc0f71705324665': 2,\n",
       " '161aedbed0ff7ba4d5d204cfeb02ef1c': 3,\n",
       " '101a8facf8b8b2f81a9ae718af5bcac4': 4,\n",
       " 'db63295abf54f2b7af0480e57aa618a7': 5,\n",
       " 'f9e30366cef6936470f93458a7e84a76': 6,\n",
       " 'ad590b5cfe44117f0b7f35584c74a714': 7,\n",
       " 'b836450462c5676985cc5bac92f0c9cf': 8,\n",
       " '61ce2f87cf1edf6e5f31520cda09b89a': 9,\n",
       " '3aa11cc0f8698d5a2c9ce34bbf3bf919': 10,\n",
       " '4d404e8b2765a960705288d5e16da562': 11,\n",
       " '31f89b13f0023f8d0a88eed43a64fb4a': 12,\n",
       " '3e2e32d8aac9adf7748698cb58e9ebd4': 13,\n",
       " '0b2ff8aab8548e48558d89d4387da28b': 14,\n",
       " 'd00b90ba38a01c19710f0e9fcfe8d439': 15,\n",
       " '183058c9f09498ee989248314a5c2c40': 16,\n",
       " '7fb8ff0e0e4d8848cab3da0f0de603a1': 17,\n",
       " '2e4cb748606895d73aa14bf20d510b99': 18,\n",
       " 'a08d0eb3ba7ae157f6b5ba7222302455': 19,\n",
       " '4b865fb62f9ec2e243e2d95fa87db945': 20,\n",
       " '2fe833102f4cf29ca6e91350454175b8': 21,\n",
       " '1b8145149e0d95c20bdc6f773d063aad': 22,\n",
       " '1b89379d155c7cfe5b4ad4c2587f27bc': 23}"
      ]
     },
     "execution_count": 13,
     "metadata": {},
     "output_type": "execute_result"
    }
   ],
   "source": [
    "mapping[\"Coupon_id\"]"
   ]
  },
  {
   "cell_type": "code",
   "execution_count": 14,
   "id": "45c60163",
   "metadata": {},
   "outputs": [],
   "source": [
    "new_tx_rc = drop_original_id([\"Coupon_id\"], *new_tx_rc)"
   ]
  },
  {
   "cell_type": "code",
   "execution_count": 15,
   "id": "3eb569a1",
   "metadata": {},
   "outputs": [
    {
     "data": {
      "text/html": [
       "<div>\n",
       "<style scoped>\n",
       "    .dataframe tbody tr th:only-of-type {\n",
       "        vertical-align: middle;\n",
       "    }\n",
       "\n",
       "    .dataframe tbody tr th {\n",
       "        vertical-align: top;\n",
       "    }\n",
       "\n",
       "    .dataframe thead th {\n",
       "        text-align: right;\n",
       "    }\n",
       "</style>\n",
       "<table border=\"1\" class=\"dataframe\">\n",
       "  <thead>\n",
       "    <tr style=\"text-align: right;\">\n",
       "      <th></th>\n",
       "      <th>User_id</th>\n",
       "      <th>Shop_id</th>\n",
       "      <th>Order_id</th>\n",
       "      <th>Coupon_type</th>\n",
       "      <th>Biz_code</th>\n",
       "      <th>Pay_date</th>\n",
       "      <th>Actual_pay_cent</th>\n",
       "      <th>Reduce_amount_cent</th>\n",
       "      <th>Coupon_id_code</th>\n",
       "    </tr>\n",
       "  </thead>\n",
       "  <tbody>\n",
       "    <tr>\n",
       "      <th>0</th>\n",
       "      <td>1f434874e1371f4651011aec29e463a6</td>\n",
       "      <td>a6900d0b0e94121a05b8f076d793b36a</td>\n",
       "      <td>cf215ea951d8a8dc09002cd9e5b2d9ec</td>\n",
       "      <td>1</td>\n",
       "      <td>D</td>\n",
       "      <td>2023-02-10</td>\n",
       "      <td>3000</td>\n",
       "      <td>0</td>\n",
       "      <td>0</td>\n",
       "    </tr>\n",
       "    <tr>\n",
       "      <th>1</th>\n",
       "      <td>fe845ad183d4ba6ebed2138dfa5fc933</td>\n",
       "      <td>4e08575cf11cfb11b9719e21bae525b0</td>\n",
       "      <td>1f8e69ba356e3c786e3e4de600db4f8a</td>\n",
       "      <td>1</td>\n",
       "      <td>D</td>\n",
       "      <td>2023-03-26</td>\n",
       "      <td>2230</td>\n",
       "      <td>600</td>\n",
       "      <td>1</td>\n",
       "    </tr>\n",
       "    <tr>\n",
       "      <th>2</th>\n",
       "      <td>56a8a58c7fa83d67862af639c9c5e63f</td>\n",
       "      <td>c89b4088551c6c98ba02c502b478a824</td>\n",
       "      <td>bb4ae29d7962a312adc450fe4c7f4965</td>\n",
       "      <td>1</td>\n",
       "      <td>D</td>\n",
       "      <td>2023-06-07</td>\n",
       "      <td>2020</td>\n",
       "      <td>0</td>\n",
       "      <td>2</td>\n",
       "    </tr>\n",
       "    <tr>\n",
       "      <th>3</th>\n",
       "      <td>e24374a1fa8e24ed2a39ff614373735e</td>\n",
       "      <td>f4c9dd2982c4c4192b2e92b1928c502d</td>\n",
       "      <td>3f0912b08f064f50c571b0e91d7cf059</td>\n",
       "      <td>1</td>\n",
       "      <td>D</td>\n",
       "      <td>2023-03-17</td>\n",
       "      <td>4300</td>\n",
       "      <td>400</td>\n",
       "      <td>3</td>\n",
       "    </tr>\n",
       "    <tr>\n",
       "      <th>4</th>\n",
       "      <td>91ae4cda5ece690f65317eaa64f5c6d2</td>\n",
       "      <td>c7e657fc94b2c7316b5164569dc49834</td>\n",
       "      <td>6ffa6bf214d4e1ef20fec6ecf3a0c9ce</td>\n",
       "      <td>&lt;NA&gt;</td>\n",
       "      <td>D</td>\n",
       "      <td>2023-02-15</td>\n",
       "      <td>2170</td>\n",
       "      <td>0</td>\n",
       "      <td>-1</td>\n",
       "    </tr>\n",
       "    <tr>\n",
       "      <th>5</th>\n",
       "      <td>5941f7407b9161e1ce727831abbdb0eb</td>\n",
       "      <td>544bb8613d1b92782887dbc8f41f3025</td>\n",
       "      <td>f7bafcfb40a2450558f3091d65c5bf0c</td>\n",
       "      <td>&lt;NA&gt;</td>\n",
       "      <td>D</td>\n",
       "      <td>2023-04-02</td>\n",
       "      <td>2542</td>\n",
       "      <td>100</td>\n",
       "      <td>-1</td>\n",
       "    </tr>\n",
       "    <tr>\n",
       "      <th>6</th>\n",
       "      <td>c5ff5d3246c0252b5f2fb36488679011</td>\n",
       "      <td>21968050a35f0ec1004e9cce1c5ee2c0</td>\n",
       "      <td>d14fc9bf8f66eec98a52efab3ce6f5ae</td>\n",
       "      <td>&lt;NA&gt;</td>\n",
       "      <td>D</td>\n",
       "      <td>2023-05-11</td>\n",
       "      <td>1576</td>\n",
       "      <td>0</td>\n",
       "      <td>-1</td>\n",
       "    </tr>\n",
       "    <tr>\n",
       "      <th>7</th>\n",
       "      <td>09f7cdce607535e8e9381500fb2baaac</td>\n",
       "      <td>23e04526ea97b08ad84d64e7337030c0</td>\n",
       "      <td>43d0442e02916cc5072f3bff7ba35db1</td>\n",
       "      <td>&lt;NA&gt;</td>\n",
       "      <td>D</td>\n",
       "      <td>2023-06-26</td>\n",
       "      <td>950</td>\n",
       "      <td>52</td>\n",
       "      <td>-1</td>\n",
       "    </tr>\n",
       "    <tr>\n",
       "      <th>8</th>\n",
       "      <td>4767d6f1f5d4fe7f7c3a480cc45e8d36</td>\n",
       "      <td>9dfe883c7a613fe338627ef252332507</td>\n",
       "      <td>ed75dcaadc10b056c02404c5c68298f1</td>\n",
       "      <td>1</td>\n",
       "      <td>D</td>\n",
       "      <td>2023-03-13</td>\n",
       "      <td>5300</td>\n",
       "      <td>500</td>\n",
       "      <td>4</td>\n",
       "    </tr>\n",
       "    <tr>\n",
       "      <th>9</th>\n",
       "      <td>590af64b9cec2a940510bcc63fc3f1f0</td>\n",
       "      <td>d0d23290119e5eb07cf2d7427b550212</td>\n",
       "      <td>df5768d76c9e85befac31d642c9d38d0</td>\n",
       "      <td>1</td>\n",
       "      <td>D</td>\n",
       "      <td>2023-05-29</td>\n",
       "      <td>1560</td>\n",
       "      <td>300</td>\n",
       "      <td>5</td>\n",
       "    </tr>\n",
       "    <tr>\n",
       "      <th>10</th>\n",
       "      <td>12c8eab9ed80c9e45654ab0f5836c6b8</td>\n",
       "      <td>7b5ce0a9f4f8cf905f955277d3f4f135</td>\n",
       "      <td>38a7654249faf450d2cfa6c57aac3bc8</td>\n",
       "      <td>&lt;NA&gt;</td>\n",
       "      <td>D</td>\n",
       "      <td>2023-04-22</td>\n",
       "      <td>990</td>\n",
       "      <td>200</td>\n",
       "      <td>-1</td>\n",
       "    </tr>\n",
       "    <tr>\n",
       "      <th>11</th>\n",
       "      <td>46cb151891f39dafceba6911cdb4360f</td>\n",
       "      <td>4c767759c4f0a0f24a413e11944445ac</td>\n",
       "      <td>206161c62d44db2932a8fa3e5bce7a4e</td>\n",
       "      <td>1</td>\n",
       "      <td>D</td>\n",
       "      <td>2023-06-05</td>\n",
       "      <td>2500</td>\n",
       "      <td>0</td>\n",
       "      <td>6</td>\n",
       "    </tr>\n",
       "    <tr>\n",
       "      <th>12</th>\n",
       "      <td>3d89e8abaf933decf8d8cd350b055c35</td>\n",
       "      <td>0d38a4358b22fb17231f6cfbbabb28e2</td>\n",
       "      <td>6539b13817601424b2c5b182af32a89a</td>\n",
       "      <td>1</td>\n",
       "      <td>D</td>\n",
       "      <td>2023-03-01</td>\n",
       "      <td>1039</td>\n",
       "      <td>500</td>\n",
       "      <td>7</td>\n",
       "    </tr>\n",
       "    <tr>\n",
       "      <th>13</th>\n",
       "      <td>d4257693cdd76f94fbee40f3decd3fb7</td>\n",
       "      <td>be4870c7cb1cd9e101a2fbc84192730b</td>\n",
       "      <td>4c54d6aca5bf5fd26269dc74f0b887de</td>\n",
       "      <td>1</td>\n",
       "      <td>D</td>\n",
       "      <td>2023-03-13</td>\n",
       "      <td>1660</td>\n",
       "      <td>0</td>\n",
       "      <td>8</td>\n",
       "    </tr>\n",
       "    <tr>\n",
       "      <th>14</th>\n",
       "      <td>69bd64d5e4bdeed7ab707da97585a33e</td>\n",
       "      <td>095d72a4afbf638d6a226668947acce8</td>\n",
       "      <td>37e2b37e715e34ea0848c01ef844b7c3</td>\n",
       "      <td>&lt;NA&gt;</td>\n",
       "      <td>D</td>\n",
       "      <td>2023-03-29</td>\n",
       "      <td>2230</td>\n",
       "      <td>0</td>\n",
       "      <td>-1</td>\n",
       "    </tr>\n",
       "  </tbody>\n",
       "</table>\n",
       "</div>"
      ],
      "text/plain": [
       "                             User_id                           Shop_id  \\\n",
       "0   1f434874e1371f4651011aec29e463a6  a6900d0b0e94121a05b8f076d793b36a   \n",
       "1   fe845ad183d4ba6ebed2138dfa5fc933  4e08575cf11cfb11b9719e21bae525b0   \n",
       "2   56a8a58c7fa83d67862af639c9c5e63f  c89b4088551c6c98ba02c502b478a824   \n",
       "3   e24374a1fa8e24ed2a39ff614373735e  f4c9dd2982c4c4192b2e92b1928c502d   \n",
       "4   91ae4cda5ece690f65317eaa64f5c6d2  c7e657fc94b2c7316b5164569dc49834   \n",
       "5   5941f7407b9161e1ce727831abbdb0eb  544bb8613d1b92782887dbc8f41f3025   \n",
       "6   c5ff5d3246c0252b5f2fb36488679011  21968050a35f0ec1004e9cce1c5ee2c0   \n",
       "7   09f7cdce607535e8e9381500fb2baaac  23e04526ea97b08ad84d64e7337030c0   \n",
       "8   4767d6f1f5d4fe7f7c3a480cc45e8d36  9dfe883c7a613fe338627ef252332507   \n",
       "9   590af64b9cec2a940510bcc63fc3f1f0  d0d23290119e5eb07cf2d7427b550212   \n",
       "10  12c8eab9ed80c9e45654ab0f5836c6b8  7b5ce0a9f4f8cf905f955277d3f4f135   \n",
       "11  46cb151891f39dafceba6911cdb4360f  4c767759c4f0a0f24a413e11944445ac   \n",
       "12  3d89e8abaf933decf8d8cd350b055c35  0d38a4358b22fb17231f6cfbbabb28e2   \n",
       "13  d4257693cdd76f94fbee40f3decd3fb7  be4870c7cb1cd9e101a2fbc84192730b   \n",
       "14  69bd64d5e4bdeed7ab707da97585a33e  095d72a4afbf638d6a226668947acce8   \n",
       "\n",
       "                            Order_id  Coupon_type Biz_code   Pay_date  \\\n",
       "0   cf215ea951d8a8dc09002cd9e5b2d9ec            1        D 2023-02-10   \n",
       "1   1f8e69ba356e3c786e3e4de600db4f8a            1        D 2023-03-26   \n",
       "2   bb4ae29d7962a312adc450fe4c7f4965            1        D 2023-06-07   \n",
       "3   3f0912b08f064f50c571b0e91d7cf059            1        D 2023-03-17   \n",
       "4   6ffa6bf214d4e1ef20fec6ecf3a0c9ce         <NA>        D 2023-02-15   \n",
       "5   f7bafcfb40a2450558f3091d65c5bf0c         <NA>        D 2023-04-02   \n",
       "6   d14fc9bf8f66eec98a52efab3ce6f5ae         <NA>        D 2023-05-11   \n",
       "7   43d0442e02916cc5072f3bff7ba35db1         <NA>        D 2023-06-26   \n",
       "8   ed75dcaadc10b056c02404c5c68298f1            1        D 2023-03-13   \n",
       "9   df5768d76c9e85befac31d642c9d38d0            1        D 2023-05-29   \n",
       "10  38a7654249faf450d2cfa6c57aac3bc8         <NA>        D 2023-04-22   \n",
       "11  206161c62d44db2932a8fa3e5bce7a4e            1        D 2023-06-05   \n",
       "12  6539b13817601424b2c5b182af32a89a            1        D 2023-03-01   \n",
       "13  4c54d6aca5bf5fd26269dc74f0b887de            1        D 2023-03-13   \n",
       "14  37e2b37e715e34ea0848c01ef844b7c3         <NA>        D 2023-03-29   \n",
       "\n",
       "    Actual_pay_cent  Reduce_amount_cent  Coupon_id_code  \n",
       "0              3000                   0               0  \n",
       "1              2230                 600               1  \n",
       "2              2020                   0               2  \n",
       "3              4300                 400               3  \n",
       "4              2170                   0              -1  \n",
       "5              2542                 100              -1  \n",
       "6              1576                   0              -1  \n",
       "7               950                  52              -1  \n",
       "8              5300                 500               4  \n",
       "9              1560                 300               5  \n",
       "10              990                 200              -1  \n",
       "11             2500                   0               6  \n",
       "12             1039                 500               7  \n",
       "13             1660                   0               8  \n",
       "14             2230                   0              -1  "
      ]
     },
     "execution_count": 15,
     "metadata": {},
     "output_type": "execute_result"
    }
   ],
   "source": [
    "new_tx_rc[0]"
   ]
  },
  {
   "cell_type": "code",
   "execution_count": 16,
   "id": "cf86c798",
   "metadata": {},
   "outputs": [
    {
     "name": "stdout",
     "output_type": "stream",
     "text": [
      "[txn] saved to c:\\Users\\20878\\25Fall\\meituan-coupon-roi\\data_work/txn.parquet, shape=(15, 9), size=0.01 MB\n"
     ]
    }
   ],
   "source": [
    "save_df2pq(new_tx_rc[0], \"txn\")"
   ]
  },
  {
   "cell_type": "code",
   "execution_count": 17,
   "id": "75f91c09",
   "metadata": {},
   "outputs": [
    {
     "name": "stdout",
     "output_type": "stream",
     "text": [
      "pq loaded from c:\\Users\\20878\\25Fall\\meituan-coupon-roi\\data_work/txn.parquet, shape=(15, 4), size=0.01 MB\n"
     ]
    },
    {
     "data": {
      "text/plain": [
       "User_id            string[python]\n",
       "Coupon_id_code               Int8\n",
       "Pay_date           datetime64[ns]\n",
       "Actual_pay_cent             Int64\n",
       "dtype: object"
      ]
     },
     "execution_count": 17,
     "metadata": {},
     "output_type": "execute_result"
    }
   ],
   "source": [
    "df = load_df_from_pq(path=\"data_work/txn.parquet\", cols=[\"User_id\", \"Coupon_id_code\", \"Pay_date\", \"Actual_pay_cent\"])\n",
    "df.dtypes"
   ]
  }
 ],
 "metadata": {
  "kernelspec": {
   "display_name": ".venv (3.13.7)",
   "language": "python",
   "name": "python3"
  },
  "language_info": {
   "codemirror_mode": {
    "name": "ipython",
    "version": 3
   },
   "file_extension": ".py",
   "mimetype": "text/x-python",
   "name": "python",
   "nbconvert_exporter": "python",
   "pygments_lexer": "ipython3",
   "version": "3.13.7"
  }
 },
 "nbformat": 4,
 "nbformat_minor": 5
}
